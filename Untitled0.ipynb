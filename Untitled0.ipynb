{
  "nbformat": 4,
  "nbformat_minor": 0,
  "metadata": {
    "colab": {
      "name": "Untitled0.ipynb",
      "provenance": [],
      "collapsed_sections": [],
      "toc_visible": true,
      "mount_file_id": "13q1zWdFw-VW-PirqHDPfbN_4qC9JivMR",
      "authorship_tag": "ABX9TyOxIUVEPo5DiwIcVmkUTDcj",
      "include_colab_link": true
    },
    "kernelspec": {
      "name": "python3",
      "display_name": "Python 3"
    },
    "accelerator": "TPU"
  },
  "cells": [
    {
      "cell_type": "markdown",
      "metadata": {
        "id": "view-in-github",
        "colab_type": "text"
      },
      "source": [
        "<a href=\"https://colab.research.google.com/github/TeK1GeTiR/TeK1GeTiR/blob/master/Untitled0.ipynb\" target=\"_parent\"><img src=\"https://colab.research.google.com/assets/colab-badge.svg\" alt=\"Open In Colab\"/></a>"
      ]
    },
    {
      "cell_type": "code",
      "metadata": {
        "id": "W6O5hZ59EUrB",
        "colab_type": "code",
        "colab": {
          "base_uri": "https://localhost:8080/",
          "height": 33
        },
        "outputId": "f40ad2a8-7180-45de-e46e-0b0771b4186a"
      },
      "source": [
        "from google.colab import drive\n",
        "drive.mount(\"/content/drive\")\n",
        "  \n",
        "    "
      ],
      "execution_count": 16,
      "outputs": [
        {
          "output_type": "stream",
          "text": [
            "Drive already mounted at /content/drive; to attempt to forcibly remount, call drive.mount(\"/content/drive\", force_remount=True).\n"
          ],
          "name": "stdout"
        }
      ]
    },
    {
      "cell_type": "code",
      "metadata": {
        "id": "e6Aya_51EHX5",
        "colab_type": "code",
        "colab": {}
      },
      "source": [
        "import matplotlib.pyplot as plt\n",
        "import pandas as pd\n",
        "import numpy as np\n",
        "from sklearn.preprocessing import LabelEncoder\n",
        "\n",
        "def sinif(havakalite):\n",
        "  if havakalite <=50:\n",
        "    return #\"İYİ\"\n",
        "  elif havakalite <=100:\n",
        "    return #\"ORTA\"\n",
        "  elif havakalite <=150:\n",
        "    return #\"HASSAS\"\n",
        "  elif havakalite <=200:\n",
        "    return #\"SAĞLIKSIZ\"\n",
        "  elif havakalite <=300:\n",
        "    return #\"KÖTÜ\"\n",
        "  elif havakalite <=500:\n",
        "    return #\"TEHLİKELİ\"\n",
        "  else:\n",
        "    return \"-\"\n",
        "  \n",
        "  veriler=[]\n",
        "\n",
        "\n",
        "  h=pd.read_csv(\"/content/drive/My Drive/ aylık hava kalitesi.csv\")\n",
        "\n",
        "\n",
        "\n",
        "\n",
        "\n"
      ],
      "execution_count": 17,
      "outputs": []
    },
    {
      "cell_type": "code",
      "metadata": {
        "id": "0xGwKAQ2k_wJ",
        "colab_type": "code",
        "colab": {
          "base_uri": "https://localhost:8080/",
          "height": 130
        },
        "outputId": "d4adf96e-3141-4d67-a20c-f42c29b3e3e9"
      },
      "source": [
        "h=h.sort_values([\"Tarih\"], ascending = True\n",
        "y=h[[\"PM10\"]].iloc[::-1]\n",
        "x= range(0,len(h))\n",
        "\n",
        "plt.subplot(331)\n",
        "plt.pilot(x,y,\"r\"),\n",
        "\n",
        "plt.xlabel(\"antalya aylık hava kalitesi\"),\n",
        "plt.title(\"PM10 değerleri\")\n",
        "\n",
        "y=h[[\"NO2\"]].iloc[::-1]\n",
        "x= range(0,len(h))\n",
        "plt.subplot(333)\n",
        "plt.plot(x,y,\"b\")\n",
        "\n",
        "plt.xlabel(\"antalya aylık hava kalitesi\"),\n",
        "plt.title(\"NO2 değerleri\")\n",
        "\n",
        "y=h[[\"NO2\"]].iloc[::-1]\n",
        "x= range(0,len(h))\n",
        "plt.subplot(333)\n",
        "plt.plot(x,y,\"y\")\n",
        "\n",
        "\n",
        "plt.xlabel(\"antalya aylık hava kalitesi\"),\n",
        "plt.title(\"SO2 değerleri\")\n",
        "\n",
        "y=h[[\"NO2\"]].iloc[::-1]\n",
        "x= range(0,len(h))\n",
        "plt.subplot(333)\n",
        "plt.plot(x,y,\"g\")\n",
        "\n",
        "plt.show()\n",
        "\n",
        "kalite=gunler.max(axis=1).apply(sinif)\n",
        "secilen=gunler.drop([\"Tarih\"],axis=1).idmax(axis=1)\n",
        "\n",
        "gunler[\"Secilen\"]=Secilen\n",
        "gunler[\"Kalite\"]=kalite\n"
      ],
      "execution_count": 19,
      "outputs": [
        {
          "output_type": "error",
          "ename": "SyntaxError",
          "evalue": "ignored",
          "traceback": [
            "\u001b[0;36m  File \u001b[0;32m\"<ipython-input-19-3bb775b0e318>\"\u001b[0;36m, line \u001b[0;32m2\u001b[0m\n\u001b[0;31m    y=h[[\"PM10\"]].iloc[::-1]\u001b[0m\n\u001b[0m    ^\u001b[0m\n\u001b[0;31mSyntaxError\u001b[0m\u001b[0;31m:\u001b[0m invalid syntax\n"
          ]
        }
      ]
    }
  ]
}